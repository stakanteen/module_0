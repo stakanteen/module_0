{
 "cells": [
  {
   "cell_type": "code",
   "execution_count": 386,
   "metadata": {},
   "outputs": [
    {
     "name": "stdout",
     "output_type": "stream",
     "text": [
      "Ваш алгоритм угадывает число в среднем за 4 попыток\n",
      "4\n"
     ]
    }
   ],
   "source": [
    "# Задаем алгоритм угадывания в виде функции\n",
    "\n",
    "def game_core_v3(number):\n",
    "    '\"Данная функция угадывает число путем уменьшения интервала поиска в два \\\n",
    "    раза. Цикл прокручивает алгоритм выбирая ветку в зависимости от того,\\\n",
    "    больше загаданное число ответа или меньше.\"'\n",
    "    predict_base = 50\n",
    "    predict = 50\n",
    "    count = 0\n",
    "    while predict!=number and count<10:    # Защитим от зацикливания\n",
    "        count += 1\n",
    "        if number < predict:\n",
    "            predict = round(predict - predict_base / 2**count)\n",
    "            continue\n",
    "        elif number > predict:\n",
    "            predict = round(predict + predict_base / 2**count)\n",
    "            continue\n",
    "        else:\n",
    "            break\n",
    "        count = count + 1\n",
    "    return(count)\n",
    "\n",
    "# Тестируем алгоритм предоставленной тест машиной)\n",
    "\n",
    "def score_game(game_core_v3):\n",
    "    '''Запускаем игру 1000 раз, чтобы узнать, как быстро игра угадывает число'''\n",
    "    count_ls = []\n",
    "    np.random.seed(1)  # фиксируем RANDOM SEED, чтобы ваш эксперимент был воспроизводим!\n",
    "    random_array = np.random.randint(1,101, size=(1000))\n",
    "    for number in random_array:\n",
    "        count_ls.append(game_core_v3(number))\n",
    "    score = int(np.mean(count_ls))\n",
    "    print(f\"Ваш алгоритм угадывает число в среднем за {score} попыток\")\n",
    "    return(score)\n",
    "\n",
    "print(score_game(game_core_v3))"
   ]
  },
  {
   "cell_type": "code",
   "execution_count": null,
   "metadata": {},
   "outputs": [],
   "source": []
  }
 ],
 "metadata": {
  "kernelspec": {
   "display_name": "Python 3",
   "language": "python",
   "name": "python3"
  },
  "language_info": {
   "codemirror_mode": {
    "name": "ipython",
    "version": 3
   },
   "file_extension": ".py",
   "mimetype": "text/x-python",
   "name": "python",
   "nbconvert_exporter": "python",
   "pygments_lexer": "ipython3",
   "version": "3.7.6"
  }
 },
 "nbformat": 4,
 "nbformat_minor": 4
}
