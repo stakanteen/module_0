{
 "cells": [
  {
   "cell_type": "code",
   "execution_count": 56,
   "metadata": {},
   "outputs": [
    {
     "name": "stdout",
     "output_type": "stream",
     "text": [
      "загаданное значение маеньше 25 за 2 попыток\n",
      "загаданное значение маеньше 37 за 3 попыток\n",
      "Вы угадали 37 за 3 попыток\n"
     ]
    }
   ],
   "source": [
    "#############################################################################\n",
    "#number = np.random.randint(1,101)    # загадали число\n",
    "number = 37\n",
    "count_list = [x for x in range (1, 101)]    # создаем список со значениями от\n",
    "                                            # 1 до 100\n",
    "\n",
    "count = count_list[round(len(count_list)/2)-1]    # подбор ответа начинаем с 50\n",
    "\n",
    "counter = 1    # вводим счетчик попыток\n",
    "\n",
    "if count == number:\n",
    "    print('Поздравляем, Вы угадали с 1 попытки!')\n",
    "else:\n",
    "    if number < count:\n",
    "        counter += 1\n",
    "        count = count_list[round(count / 2 - 1)]\n",
    "        print('загаданное значение маеньше', count, 'за', counter ,'попыток')\n",
    "        if number > count:\n",
    "            counter += 1\n",
    "            count = count_list[count*2 - round(count/2)-2]\n",
    "            print('загаданное значение маеньше', count, 'за', counter ,'попыток')\n",
    "        else:\n",
    "            counter += 1\n",
    "            count = \n",
    "    else:\n",
    "        count = count_list[round(100-((100 - count) / 2+1))]\n",
    "        counter += 1\n",
    "        print('загаданное значение больше', count, 'за', counter ,'попыток')\n",
    "print('Вы угадали', count, 'за', counter, 'попыток')"
   ]
  },
  {
   "cell_type": "code",
   "execution_count": null,
   "metadata": {},
   "outputs": [],
   "source": []
  },
  {
   "cell_type": "code",
   "execution_count": null,
   "metadata": {},
   "outputs": [],
   "source": []
  },
  {
   "cell_type": "code",
   "execution_count": null,
   "metadata": {},
   "outputs": [],
   "source": []
  }
 ],
 "metadata": {
  "kernelspec": {
   "display_name": "Python 3",
   "language": "python",
   "name": "python3"
  },
  "language_info": {
   "codemirror_mode": {
    "name": "ipython",
    "version": 3
   },
   "file_extension": ".py",
   "mimetype": "text/x-python",
   "name": "python",
   "nbconvert_exporter": "python",
   "pygments_lexer": "ipython3",
   "version": "3.7.6"
  }
 },
 "nbformat": 4,
 "nbformat_minor": 4
}
